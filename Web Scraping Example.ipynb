{
 "cells": [
  {
   "cell_type": "code",
   "execution_count": 9,
   "id": "77a49b7a-9354-45ac-8c08-b173cfc734d9",
   "metadata": {},
   "outputs": [],
   "source": [
    "# importing dependencies\n",
    "from bs4 import BeautifulSoup \n",
    "import requests\n",
    "import csv"
   ]
  },
  {
   "cell_type": "code",
   "execution_count": 10,
   "id": "f95c62b9-6391-42df-b68e-8afe46949fcf",
   "metadata": {},
   "outputs": [],
   "source": [
    "#Lets start by creating the CSV file we want to write our data to. By default, Python stores new files in C:\\Users\\\"Your User\"\n",
    "header = ['Brand', 'Name', 'Price']\n",
    "with open('EveryshopTVSelection.csv', 'w', newline='', encoding ='UTF8') as f:\n",
    "    writer = csv.writer(f)\n",
    "    writer.writerow(header)\n",
    "\n",
    "#connect to website\n",
    "URL = 'https://www.everyshop.co.za/catalogsearch/result/?q=tv'\n",
    "\n",
    "#headers, this is required to tell beautiful soup how to interpret the HTML, you would want to get the header file of the default browser that you are using. \n",
    "#You can use a site like httpbin to get a dump of your browser details\n",
    "headers = {\"User-Agent\": \"Mozilla/5.0 (Windows NT 10.0; Win64; x64) AppleWebKit/537.36 (KHTML, like Gecko) Chrome/123.0.0.0 Safari/537.36\", \"Accept-Encoding\":\"gzip, deflate\", \"Accept\":\"text/html,application/xhtml+xml,application/xml;q=0.9,*/*;q=0.8\", \"DNT\":\"1\",\"Connection\":\"close\", \"Upgrade-Insecure-Requests\":\"1\"}\n",
    "\n",
    "#This is the main loop that allows us to loop through pages, You can specify the number of pages you want to scrape in the range below\n",
    "for i in range (6):\n",
    "    \n",
    "    #Send a request to the web server to request data\n",
    "    web_page = requests.get(URL, headers=headers)\n",
    "    \n",
    "    #use beautiful soup to extract the raw HTML from the website\n",
    "    raw_html = BeautifulSoup(web_page.content, \"html.parser\")\n",
    "    \n",
    "    #neaten the HTML using the prettify function so that its easier to read\n",
    "    neat_html = BeautifulSoup(raw_html.prettify(), \"html.parser\")\n",
    "    \n",
    "    #print(neat_html)\n",
    "    \n",
    "    #Based on the site that you are scraping from, you need to evaluate the HTML to find the tags that hold the data you are interested in\n",
    "    #I have chosen to scrape everyshop which is a south african online store, I am specifically looking for data around the TV's that they \n",
    "    #sell on their store. I am looking for brand, name and price of each item listed across all the pages. \n",
    "    \n",
    "    #This  helps me find all the products I need as the website groups the listings under a div with the class product details. \n",
    "    products = neat_html.find_all(\"div\", class_=\"product details product-item-details\")\n",
    "    \n",
    "    #Loop through all the listing so that we group the brand, name and price in teh same line.\n",
    "    for product in products:\n",
    "        product_brand = product.find(\"div\", class_ = \"product-item-brand\").text.strip()\n",
    "        product_name = product.find(\"strong\", class_ = \"product name product-item-name\").text.strip()\n",
    "        product_price = product.find(\"span\", class_ = \"price\").text.strip()[2:]\n",
    "        line_item = [product_brand, product_name, product_price]\n",
    "        \n",
    "        #Write each line item to file\n",
    "        with open ('EveryshopTVSelection.csv', 'a+', newline='', encoding ='UTF8') as f:\n",
    "            writer = csv.writer(f)\n",
    "            writer.writerow(line_item)\n",
    "\n",
    "    #lets move on to the next page and repeat\n",
    "    next_page = neat_html.find(\"a\",class_=\"action next\").get(\"href\")\n",
    "    URL = next_page\n",
    "    \n",
    "\n",
    "\n"
   ]
  },
  {
   "cell_type": "code",
   "execution_count": null,
   "id": "f680f46b-98c5-41b8-8bb5-88d9243fb66b",
   "metadata": {},
   "outputs": [],
   "source": []
  }
 ],
 "metadata": {
  "kernelspec": {
   "display_name": "Python 3 (ipykernel)",
   "language": "python",
   "name": "python3"
  },
  "language_info": {
   "codemirror_mode": {
    "name": "ipython",
    "version": 3
   },
   "file_extension": ".py",
   "mimetype": "text/x-python",
   "name": "python",
   "nbconvert_exporter": "python",
   "pygments_lexer": "ipython3",
   "version": "3.12.3"
  }
 },
 "nbformat": 4,
 "nbformat_minor": 5
}
